{
  "nbformat": 4,
  "nbformat_minor": 0,
  "metadata": {
    "colab": {
      "provenance": [],
      "authorship_tag": "ABX9TyMJnSGmequZrd+FfC0Fiztg",
      "include_colab_link": true
    },
    "kernelspec": {
      "name": "python3",
      "display_name": "Python 3"
    },
    "language_info": {
      "name": "python"
    }
  },
  "cells": [
    {
      "cell_type": "markdown",
      "metadata": {
        "id": "view-in-github",
        "colab_type": "text"
      },
      "source": [
        "<a href=\"https://colab.research.google.com/github/Vibenshus-Gymnasium-Pro/assignment-1-ThoreKH/blob/main/logbog.ipynb\" target=\"_parent\"><img src=\"https://colab.research.google.com/assets/colab-badge.svg\" alt=\"Open In Colab\"/></a>"
      ]
    },
    {
      "cell_type": "markdown",
      "source": [
        "# uge 32\n",
        "den første uge brufte jeg på at få instaleret og sa op de forskelige programmer.\n"
      ],
      "metadata": {
        "id": "q8JvGX7NQFbh"
      }
    },
    {
      "cell_type": "markdown",
      "source": [
        "# uge 33\n",
        "den anden uge brugte jeg på at tilslutte mig til github og classroom hvor jeg også fik lavet øvelser"
      ],
      "metadata": {
        "id": "Lu2_T_XZQYMA"
      }
    },
    {
      "cell_type": "markdown",
      "source": [
        "# uge 34\n",
        "formaterede vi datasæt ind i en visuel metode"
      ],
      "metadata": {
        "id": "e-2l6P4oQz7w"
      }
    },
    {
      "cell_type": "markdown",
      "source": [
        "# uge 35\n",
        "arbejdede jeg med crash course og data visualition"
      ],
      "metadata": {
        "id": "PjWMaSBm50xz"
      }
    },
    {
      "cell_type": "markdown",
      "source": [
        "#uge 36\n",
        "## 7/9\n",
        "arbejdede jeg med classes i python\n",
        "##8/9\n",
        "Arbejdede jeg med numpy og pandas"
      ],
      "metadata": {
        "id": "t07WdyCT6YMa"
      }
    },
    {
      "cell_type": "markdown",
      "source": [
        "#uge 37\n",
        "##14/9\n",
        "arberjdede jeg med crash course\n",
        "##15/9\n",
        "kiggede på koder"
      ],
      "metadata": {
        "id": "06I8vwR16_9B"
      }
    },
    {
      "cell_type": "markdown",
      "source": [
        "# uge 38\n",
        "arbejdede jeg selv på opgaver"
      ],
      "metadata": {
        "id": "ygeOPvkr73ga"
      }
    },
    {
      "cell_type": "markdown",
      "source": [
        "# uge 39\n",
        "lavede jeg opgaver i crash course"
      ],
      "metadata": {
        "id": "wttTTXLM8APh"
      }
    },
    {
      "cell_type": "markdown",
      "source": [
        "# uge 40\n",
        "fik jeg lavet på crash course"
      ],
      "metadata": {
        "id": "Sf0VtPpC8aky"
      }
    },
    {
      "cell_type": "markdown",
      "source": [
        "# uge 41\n",
        "##12/10\n",
        "i dag laver jeg logbog over vad jeg tror jeg har lavet,\n",
        "hvor efter vil jeg kigge på nogle opgaver"
      ],
      "metadata": {
        "id": "YcZ1vQwG8jcq"
      }
    }
  ]
}