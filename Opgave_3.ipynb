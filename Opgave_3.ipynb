{
  "nbformat": 4,
  "nbformat_minor": 0,
  "metadata": {
    "colab": {
      "provenance": [],
      "authorship_tag": "ABX9TyOjFuUY728jwx8lWvtpw0OV",
      "include_colab_link": true
    },
    "kernelspec": {
      "name": "python3",
      "display_name": "Python 3"
    },
    "language_info": {
      "name": "python"
    }
  },
  "cells": [
    {
      "cell_type": "markdown",
      "metadata": {
        "id": "view-in-github",
        "colab_type": "text"
      },
      "source": [
        "<a href=\"https://colab.research.google.com/github/Vibenshus-Gymnasium-Pro/assignment-1-ThoreKH/blob/main/Opgave_3.ipynb\" target=\"_parent\"><img src=\"https://colab.research.google.com/assets/colab-badge.svg\" alt=\"Open In Colab\"/></a>"
      ]
    },
    {
      "cell_type": "code",
      "execution_count": 4,
      "metadata": {
        "colab": {
          "base_uri": "https://localhost:8080/"
        },
        "id": "d4IuOH_2DWsU",
        "outputId": "943acb0b-0d68-4990-e03b-15fe8087ca7a"
      },
      "outputs": [
        {
          "output_type": "execute_result",
          "data": {
            "text/plain": [
              "0"
            ]
          },
          "metadata": {},
          "execution_count": 4
        }
      ],
      "source": [
        "class SimpleCounter: \n",
        "   def __init__(self): \n",
        "       self._count = 0\n",
        "\n",
        "   def increment(self): \n",
        "       self._count += 1\n",
        "\n",
        "   def clear(self): \n",
        "       self._count = 0\n",
        "\n",
        "   def get_value(self): \n",
        "       return self._count\n",
        "my_counter = SimpleCounter()\n",
        "my_counter.get_value()\n",
        "my_counter.increment()\n",
        "my_counter.increment()\n",
        "my_counter.get_value()\n",
        "my_counter.clear()\n",
        "my_counter.get_value()"
      ]
    },
    {
      "cell_type": "code",
      "source": [
        "class BankAccount: \n",
        "    \"\"\"Bank Account protected by a pin number.\"\"\"\n",
        "\n",
        "    def __init__(self, pin): \n",
        "        \"\"\"Initial account balance is 0 and pin is 'pin'.\"\"\"\n",
        "\n",
        "    def deposit(self, pin, amount): \n",
        "        \"\"\"Increment account balance by amount and return new balance.\"\"\"\n",
        "\n",
        "    def withdraw(self, pin, amount): \n",
        "        \"\"\"Decrement account balance by amount and return amount withdrawn.\"\"\"\n",
        "\n",
        "    def get_balance(self, pin): \n",
        "        \"\"\"Return account balance.\"\"\"\n",
        "\n",
        "    def change_pin(self, oldpin, newpin): \n",
        "        \"\"\"Change pin from oldpin to newpin.\"\"\""
      ],
      "metadata": {
        "id": "XPYbWOj6Hr-p"
      },
      "execution_count": 6,
      "outputs": []
    },
    {
      "cell_type": "code",
      "source": [
        "class DecrementingCounter(SimpleCounter): \n",
        "    \"\"\"Simple counter that can be incremented, decremented, and cleared.\"\"\"\n",
        "\n",
        "    def increment(self): \n",
        "        \"\"\"Increment counter by 2.\"\"\" \n",
        "        self._count += 2\n",
        "\n",
        "    def decrement(self): \n",
        "        \"\"\"Decrement counter by 1.\"\"\" \n",
        "        self._count -= 1"
      ],
      "metadata": {
        "id": "wMC4uUimKrBS"
      },
      "execution_count": 12,
      "outputs": []
    },
    {
      "cell_type": "code",
      "source": [
        "class DecrementingCounter(SimpleCounter): \n",
        "    \"\"\"Simple counter that can be incremented, decremented, and cleared.\"\"\"\n",
        "\n",
        "    def decrement(self): \n",
        "        \"\"\"Decrement counter by 1.\"\"\" \n",
        "        self._count -= 1\n",
        "help(DecrementingCounter)"
      ],
      "metadata": {
        "id": "rXtdIl8jJlZi"
      },
      "execution_count": null,
      "outputs": []
    }
  ]
}